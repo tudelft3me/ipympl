{
 "cells": [
  {
   "cell_type": "markdown",
   "id": "b503f44a-df25-4020-af61-c015bf588658",
   "metadata": {},
   "source": [
    "# Sin function"
   ]
  },
  {
   "cell_type": "code",
   "execution_count": 11,
   "id": "e35c7878-a2b1-4efb-ba5b-e7dc30f8fe36",
   "metadata": {
    "tags": [
     "thebe-init",
     "hide-input"
    ]
   },
   "outputs": [
    {
     "data": {
      "application/vnd.jupyter.widget-view+json": {
       "model_id": "c02cab0c26154d5893337ced4bbd3782",
       "version_major": 2,
       "version_minor": 0
      },
      "text/plain": [
       "interactive(children=(FloatSlider(value=1.0, description='w', max=4.0, step=0.25), FloatSlider(value=1.0, desc…"
      ]
     },
     "metadata": {},
     "output_type": "display_data"
    }
   ],
   "source": [
    "%matplotlib widget\n",
    "import ipywidgets as widgets\n",
    "import matplotlib.pyplot as plt\n",
    "import numpy as np\n",
    "\n",
    "x = np.linspace(0,10)\n",
    "\n",
    "def sine_func(x, w, amp):\n",
    "    return amp*np.sin(w*x)\n",
    "\n",
    "@widgets.interact(w=(0, 4, 0.25), amp=(0, 4, .1))\n",
    "def update(w = 1, amp = 1):\n",
    "    plt.clf()\n",
    "    plt.ylim(-4, 4)\n",
    "    plt.plot(x, sine_func(x, w, amp))\n",
    "\n",
    "plt.show()"
   ]
  }
 ],
 "metadata": {
  "kernelspec": {
   "display_name": "Python 3 (ipykernel)",
   "language": "python",
   "name": "python3"
  },
  "language_info": {
   "codemirror_mode": {
    "name": "ipython",
    "version": 3
   },
   "file_extension": ".py",
   "mimetype": "text/x-python",
   "name": "python",
   "nbconvert_exporter": "python",
   "pygments_lexer": "ipython3",
   "version": "3.9.6"
  }
 },
 "nbformat": 4,
 "nbformat_minor": 5
}
